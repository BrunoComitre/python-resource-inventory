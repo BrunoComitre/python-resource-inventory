{
  "nbformat": 4,
  "nbformat_minor": 0,
  "metadata": {
    "colab": {
      "name": "curso_de_python_alunos_parte_01.ipynb",
      "provenance": [],
      "collapsed_sections": [],
      "toc_visible": true
    },
    "kernelspec": {
      "name": "python3",
      "display_name": "Python 3"
    }
  },
  "cells": [
    {
      "cell_type": "markdown",
      "metadata": {
        "id": "S6C1DOgWlSin",
        "colab_type": "text"
      },
      "source": [
        "# Bem vindos ao curso intensivo de\n",
        "\n",
        "\n",
        "![Python logo](https://www.python.org/static/community_logos/python-logo-generic.svg)"
      ]
    },
    {
      "cell_type": "code",
      "metadata": {
        "id": "EVAxSYgMg8UB",
        "colab_type": "code",
        "colab": {}
      },
      "source": [
        "\"\"\"CONSIDERAÇÕES\"\"\"\n",
        "# Comentários\n",
        "# Case Sensitive\n",
        "# snake_case\n",
        "#   Indentation\n",
        "# !Bash\n",
        "# pip3 install module_name\n",
        "# python3 python_file.pys"
      ],
      "execution_count": 0,
      "outputs": []
    },
    {
      "cell_type": "markdown",
      "metadata": {
        "colab_type": "text",
        "id": "sQjU7BNbSwJB"
      },
      "source": [
        "# Tipos de Dados"
      ]
    },
    {
      "cell_type": "markdown",
      "metadata": {
        "id": "y4stZ53wVv-Z",
        "colab_type": "text"
      },
      "source": [
        "Tipo           | Classe\n",
        "---------------|:-----------------------------:\n",
        "Text           |str\n",
        "Numeric        |int, float, complex\n",
        "Sequence       |list, tuple, range\n",
        "Mapping        |dict\n",
        "Set            |set, frozenset\n",
        "Boolean        |bool\n",
        "Binary         |bytes, bytearray, memoryview\n",
        "\n",
        "---\n",
        "\n",
        "Formato de escrita                           | Classe\n",
        "----------------------------------|:-------------:\n",
        "x = \"Hello World\" \t              |  str \t\n",
        "x = 20 \t                          |  int \t\n",
        "x = 20.5 \t                      |  float \t\n",
        "x = 1j \t                          |  complex \t\n",
        "x = [\"apple\", \"banana\", \"cherry\"] |  list \t\n",
        "x = (\"apple\", \"banana\", \"cherry\") |  tuple \t\n",
        "x = range(6) \t                  |  range \t\n",
        "x = {\"name\" : \"John\", \"age\" : 36} |  dict \t\n",
        "x = {\"apple\", \"banana\", \"cherry\"} |  set \t\n",
        "x = frozenset({\"apple\", \"cherry\"})|  frozenset \t\n",
        "x = True \t                      |  bool \t\n",
        "x = b\"Hello\" \t                  |  bytes \t\n",
        "x = bytearray(5) \t              |  bytearray \t\n",
        "x = memoryview(bytes(5))          |  memoryview\n",
        "\n",
        "---\n",
        "\n",
        "Casting (conversão explícita)| Classe\n",
        "--------------------------------------------|:---:\n",
        "x = str(\"Hello World\") \t                    | str \t\n",
        "x = int(20) \t                            | int \t\n",
        "x = float(20.5) \t                        | float \t\n",
        "x = complex(1j) \t                        | complex \t\n",
        "x = list((\"apple\", \"banana\", \"cherry\")) \t|  list \t\n",
        "x = tuple((\"apple\", \"banana\", \"cherry\")) \t|  tuple \t\n",
        "x = range(6) \t                            |  range \t\n",
        "x = dict(name=\"John\", age=36) \t            |  dict \t\n",
        "x = set((\"apple\", \"banana\", \"cherry\")) \t    |  set \t\n",
        "x = frozenset((\"apple\", \"banana\", \"cherry\"))| frozenset \t\n",
        "x = bool(5) \t                            |  bool \t\n",
        "x = bytes(5) \t                            |  bytes \t\n",
        "x = bytearray(5) \t                        |  bytearray \t\n",
        "x = memoryview(bytes(5)) \t                |  memoryview"
      ]
    },
    {
      "cell_type": "markdown",
      "metadata": {
        "colab_type": "text",
        "id": "1SZrzC-eVzlK"
      },
      "source": [
        "# Variáveis e Atribuição"
      ]
    },
    {
      "cell_type": "code",
      "metadata": {
        "id": "SmzvouKg8c4h",
        "colab_type": "code",
        "colab": {}
      },
      "source": [
        "#@title\n",
        "# Variáveis e atribuição\n",
        "a = 5\n",
        "b = 2\n",
        "x, y, z = 1, 2, 3\n",
        "x + z\n",
        "\n",
        "# type(a)\n",
        "# x, y = a, b\n",
        "# x\n",
        "\n",
        "# c = \"Sistemas\"\n",
        "# d = \"Unimontes\"\n",
        "# c+d\n",
        "\n",
        "# type(c)"
      ],
      "execution_count": 0,
      "outputs": []
    },
    {
      "cell_type": "markdown",
      "metadata": {
        "id": "60iCM5QqR3Dm",
        "colab_type": "text"
      },
      "source": [
        "# Operadores Aritméticos"
      ]
    },
    {
      "cell_type": "code",
      "metadata": {
        "id": "CdAAWi718AFj",
        "colab_type": "code",
        "colab": {}
      },
      "source": [
        "#@title\n",
        "# Operadores aritméticos (+, -, *, **, /, //, %)\n",
        "5+2"
      ],
      "execution_count": 0,
      "outputs": []
    },
    {
      "cell_type": "markdown",
      "metadata": {
        "colab_type": "text",
        "id": "yle-CpXBh3BI"
      },
      "source": [
        "\n",
        "# Operadores Lógicos"
      ]
    },
    {
      "cell_type": "code",
      "metadata": {
        "id": "ozKb9dud8dhk",
        "colab_type": "code",
        "colab": {}
      },
      "source": [
        "#@title\n",
        "# Comparações (==, !=, >, <, >=, <=)\n",
        "a == b"
      ],
      "execution_count": 0,
      "outputs": []
    },
    {
      "cell_type": "markdown",
      "metadata": {
        "colab_type": "text",
        "id": "tDcjVBy6BG42"
      },
      "source": [
        "\n",
        "# Operadores Bitwise"
      ]
    },
    {
      "cell_type": "code",
      "metadata": {
        "colab_type": "code",
        "id": "tAiic5UQBG5R",
        "colab": {}
      },
      "source": [
        "# Binário (<<, >>, &, |, ~, ^)\n",
        "1 & 1"
      ],
      "execution_count": 0,
      "outputs": []
    },
    {
      "cell_type": "markdown",
      "metadata": {
        "colab_type": "text",
        "id": "azjmYpt5h3fq"
      },
      "source": [
        "# Saída de Dados"
      ]
    },
    {
      "cell_type": "code",
      "metadata": {
        "id": "AqaYzOlzpDe9",
        "colab_type": "code",
        "colab": {}
      },
      "source": [
        "# Saída de dados\n",
        "a, b = 33, 57\n",
        "print(\"As variáveis 'a' e 'b' contêm os valores %d e %d.\" %(a, b) )\n",
        "\n",
        "print(\"As variáveis 'a' e 'b' contêm os valores \" + str(a) + \" e \" + str(b) + \".\")\n",
        "\n",
        "print(\"As variáveis 'a' e 'b' contêm os valores {} e {}.\".format(a, b) )\n",
        "\n",
        "print(f\"As variáveis 'a' e 'b' contêm os valores {a} e {b}.\")"
      ],
      "execution_count": 0,
      "outputs": []
    },
    {
      "cell_type": "code",
      "metadata": {
        "id": "sH2HAqTbFnAy",
        "colab_type": "code",
        "colab": {}
      },
      "source": [
        "# swap variavéis\n",
        "x = 2\n",
        "y = 5\n",
        "\n",
        "x, y = y, x\n",
        "\n",
        "print(f\"x: {x}\")\n",
        "print(f\"y: {y}\")"
      ],
      "execution_count": 0,
      "outputs": []
    },
    {
      "cell_type": "markdown",
      "metadata": {
        "colab_type": "text",
        "id": "LSJ7tp5xh4RE"
      },
      "source": [
        "# Entrada de Dados"
      ]
    },
    {
      "cell_type": "code",
      "metadata": {
        "id": "Pfq5U3nspDYw",
        "colab_type": "code",
        "colab": {}
      },
      "source": [
        "# Entrada de dados\n",
        "nome = input(\"Digite o seu nome: \")\n",
        "idade = input(\"Digite a sua idade: \")\n",
        "\n",
        "print(f\"Seu nome é {nome} e você tem {idade} anos!\")\n",
        "print(\"Seu nome é \" + nome + \" e você tem \" + idade + \" anos!\")"
      ],
      "execution_count": 0,
      "outputs": []
    },
    {
      "cell_type": "markdown",
      "metadata": {
        "colab_type": "text",
        "id": "W8HDKJgAh5o6"
      },
      "source": [
        "# Estrutura de Decisão\n",
        "\n",
        "$if = \n",
        "\\begin{cases}\n",
        "  print('isso\\ mesmo') &\\text{se $nome=isso$ } \\\\\n",
        "  print('aquilo\\ mesmo') & \\forall \\text{se $nome=aquilo$} \\\\\n",
        "  print('não\\ deu') & \\text{outros casos}\n",
        "\\end{cases}$"
      ]
    },
    {
      "cell_type": "code",
      "metadata": {
        "id": "s76LDmmw18-5",
        "colab_type": "code",
        "colab": {}
      },
      "source": [
        "# Estrutura de decisão\n",
        "if nome == \"Alex\":\n",
        "    print(\"Você é o Alex!\")\n",
        "elif nome == \"alex\":\n",
        "    print(\"Você é o Alex!\")\n",
        "else:\n",
        "    print(\"Você não é o Alex!\")"
      ],
      "execution_count": 0,
      "outputs": []
    },
    {
      "cell_type": "markdown",
      "metadata": {
        "colab_type": "text",
        "id": "5dzf8DzZ18HJ"
      },
      "source": [
        "# Estrutura de Repetição (while)\n",
        "$\\sum_{i=0}^{\\infty} print(x)$\n",
        "\n",
        "$\\prod_{i=0}^{\\infty} print(x)$"
      ]
    },
    {
      "cell_type": "code",
      "metadata": {
        "id": "MP0aZ_FjpDR2",
        "colab_type": "code",
        "colab": {}
      },
      "source": [
        "# Estruturas de repetição\n",
        "i = 0\n",
        "while i < 10: #True\n",
        "    i = i + 1\n",
        "    if i%2==0:\n",
        "        print(f\"{i} é par!\")\n",
        "    else:\n",
        "        print(f\"{i} é ímpar!\")"
      ],
      "execution_count": 0,
      "outputs": []
    },
    {
      "cell_type": "markdown",
      "metadata": {
        "colab_type": "text",
        "id": "OMQ4K0WLh6J3"
      },
      "source": [
        "# Estrutura de Repetição (for)\n",
        "$\\sum_{i=1}^{a}\\sum_{j=1}^{b} \\text{(a.b) + (i+j)}^2$"
      ]
    },
    {
      "cell_type": "code",
      "metadata": {
        "colab_type": "code",
        "id": "lapcrAiK4Kef",
        "colab": {}
      },
      "source": [
        "# Estruturas de repetição\n",
        "for i in range(10):\n",
        "    print(f\"i = {i}\")\n",
        "\n",
        "# for i in range(1, 11, 2):\n",
        "#     print(f\"i = {i}\")"
      ],
      "execution_count": 0,
      "outputs": []
    },
    {
      "cell_type": "code",
      "metadata": {
        "id": "vs3xFR1jKEza",
        "colab_type": "code",
        "colab": {}
      },
      "source": [
        "# (axb)+(i+j)²\n",
        "a =  int(input(\"Digite o valor de a: \"))\n",
        "b =  int(input(\"Digite o valor de b: \"))\n",
        "soma = 0\n",
        "\n",
        "for i in range(1, a+1):\n",
        "    for j in range(1, b+1):\n",
        "        soma += (a*b) + (i+j)**2\n",
        "\n",
        "print(soma)"
      ],
      "execution_count": 0,
      "outputs": []
    },
    {
      "cell_type": "markdown",
      "metadata": {
        "colab_type": "text",
        "id": "Oc-AGbDNkwyV"
      },
      "source": [
        "# Strings (Imutáveis)"
      ]
    },
    {
      "cell_type": "code",
      "metadata": {
        "id": "ldf0NhaDb9i3",
        "colab_type": "code",
        "colab": {}
      },
      "source": [
        "# Strings são Arrays de bytes\n",
        "a = \"              Hello, World!        \"\n",
        "print(a)\n",
        "print(a[15])\n",
        "\n",
        "a = a.strip() # remove das extremidades\n",
        "# print(a)"
      ],
      "execution_count": 0,
      "outputs": []
    },
    {
      "cell_type": "code",
      "metadata": {
        "id": "jsoaR8Hc1Rot",
        "colab_type": "code",
        "colab": {}
      },
      "source": [
        "print(a.lower())\n",
        "\n",
        "# print(a.upper())\n",
        "\n",
        "# print(a.replace(\"l\", \"x\"))\n",
        "\n",
        "# print(a.split(\"l\"))\n",
        "\n",
        "# print(a[8:13].replace(\"o\", \"A\").upper())"
      ],
      "execution_count": 0,
      "outputs": []
    },
    {
      "cell_type": "code",
      "metadata": {
        "id": "tsv01kPIOYPc",
        "colab_type": "code",
        "colab": {}
      },
      "source": [
        "# quais métodos tem a classe str?\n",
        "dir(str)"
      ],
      "execution_count": 0,
      "outputs": []
    },
    {
      "cell_type": "markdown",
      "metadata": {
        "id": "GRhDuttolrir",
        "colab_type": "text"
      },
      "source": [
        "# Listas (Mutáveis)"
      ]
    },
    {
      "cell_type": "code",
      "metadata": {
        "id": "nZnVk_lwlrur",
        "colab_type": "code",
        "colab": {}
      },
      "source": [
        "# Listas\n",
        "# Se aplicam os mesmos métodos de slice das strings\n",
        "\n",
        "l = [1, 2, 0, 0.0001, [\"a\", 3.14], \"\\u2665\", False, True]\n",
        "\n",
        "# for i in l:\n",
        "#     if i:\n",
        "#         print(\"Verdadeiro\\t✅\")\n",
        "#     else:\n",
        "#         print(f\"Falso\\t❎ {i}\") # \\b \\r \\t \\n "
      ],
      "execution_count": 0,
      "outputs": []
    },
    {
      "cell_type": "code",
      "metadata": {
        "id": "u6x3S4o71dTi",
        "colab_type": "code",
        "colab": {}
      },
      "source": [
        "l.append(2019)\n",
        "# l.append([\"d\", \"e\", \"f\"])\n",
        "# l.extend([\"g\", \"h\", \"i\"])\n",
        "# l.insert(1,\"X\")\n",
        "\n",
        "# print(l.count(0))\n",
        "# print(l.index(30)) # gives error if not in list\n",
        "\n",
        "# l = [\"yanke\", \"zulu\",\"x-ray\", \"whisky\"]\n",
        "# l.reverse()\n",
        "# l.sort()\n",
        "# l = [4, 5, 8, 1, 4, 2, 0, 9, 2, 4]\n",
        "# l.sort()\n",
        "# l.reverse()\n",
        "\n",
        "print(f\"l = {l}\")"
      ],
      "execution_count": 0,
      "outputs": []
    },
    {
      "cell_type": "code",
      "metadata": {
        "id": "B2aGcoNS1wRO",
        "colab_type": "code",
        "colab": {}
      },
      "source": [
        "# l.remove(3.14)\n",
        "# l.pop(1)\n",
        "\n",
        "# Pilha\n",
        "# l.append(\"último\")\n",
        "# l.pop()\n",
        "\n",
        "# Fila\n",
        "# l.append(\"último\")\n",
        "# l.pop(0)\n",
        "\n",
        "print(f\"l = {l}\")"
      ],
      "execution_count": 0,
      "outputs": []
    },
    {
      "cell_type": "code",
      "metadata": {
        "id": "GFUCT4vU10aZ",
        "colab_type": "code",
        "colab": {}
      },
      "source": [
        "#isso cria uma referência, não uma cópia\n",
        "l2 = l.copy()\n",
        "l2[3] = 2222\n",
        "\n",
        "# l2 = list(l)\n",
        "# l2 = l[:]                 # slice retorna nova lista\n",
        "# l2 = l.copy()\n",
        "# import copy\n",
        "# l2 = copy.deepcopy(l)     #para copiar listas aninhadas\n",
        "\n",
        "# l2.insert(1, \"cheguei\")\n",
        "# print(f\"l2={l2}\")\n",
        "\n",
        "# import bisect\n",
        "# bisect.insort(l, 3)       #inserir em listas ordenadas\n",
        "\n",
        "# print(f\"l = {l}\")"
      ],
      "execution_count": 0,
      "outputs": []
    },
    {
      "cell_type": "code",
      "metadata": {
        "id": "LfJxA2262F6B",
        "colab_type": "code",
        "colab": {}
      },
      "source": [
        "L = [1, 2, 3, 9, 4, 5, 6, 7, 8, 9, 9, 8, 7, 6, 2, 9]\n",
        "print(L)\n",
        "# print(*L, sep=\"\\n\") # desempacotar\n",
        "\n",
        "# list_index = [i for i, n in enumerate(L) if n == 9]\n",
        "# print(list_index)\n",
        "\n",
        "# L = list(i for i in L if i not in list_index)\n",
        "# print(L)\n",
        "\n",
        "# l3 = list(range(0,21)[::2]) #lista de pares\n",
        "# print(l3)"
      ],
      "execution_count": 0,
      "outputs": []
    },
    {
      "cell_type": "markdown",
      "metadata": {
        "id": "XpFz7lYXuDUr",
        "colab_type": "text"
      },
      "source": [
        "# Lists Comprehension\n",
        "### Programação funcional"
      ]
    },
    {
      "cell_type": "code",
      "metadata": {
        "id": "iDbJgaCFzZtK",
        "colab_type": "code",
        "colab": {}
      },
      "source": [
        "# Sintaxe: X for X in Y if Z \n",
        "\n",
        "l = [i for i in range(0, 11) if i%2!=0]\n",
        "\n",
        "print(l)\n",
        "\n",
        "# count = 0\n",
        "# for x in range(5,10):\n",
        "#     print(x, count)\n",
        "#     count += 1\n",
        "\n",
        "# for count, x in enumerate(range(10,15)):  #enumerate(iterable, start=0)\n",
        "#     print(x,count)"
      ],
      "execution_count": 0,
      "outputs": []
    },
    {
      "cell_type": "code",
      "metadata": {
        "id": "YDceb-8O2iXm",
        "colab_type": "code",
        "colab": {}
      },
      "source": [
        "s = \"Semana de integração\"\n",
        "print(*(i for i in enumerate(s)), sep =\"\\n\") # desempacotar\n",
        "\n",
        "a = \"Oftalm otorrino laringo logista\"\n",
        "b = list(i for i in a if i !=\" \")\n",
        "b = (\"\".join(b))\n",
        "print(b)"
      ],
      "execution_count": 0,
      "outputs": []
    },
    {
      "cell_type": "code",
      "metadata": {
        "id": "E-MEXhOm2vo0",
        "colab_type": "code",
        "colab": {}
      },
      "source": [
        "# função zip (iterar em várias listas ao mesmo tempo)\n",
        "for x, y, z in zip([1,2,3], [-4,5,7], [10, -8, -1]):\n",
        "    print(f\"({x})+({y})-({z}) = {x+y-z}\")\n",
        "\n",
        "# for x, y in zip([\"Olá\", \"Olá\", \"Olá\"], [\"Amanda\", \"Laís\", \"Romero\"]):\n",
        "#     print(f\"{x} {y}\")\n",
        "\n",
        "# for x, y in zip(3*[\"Olá\"], [\"Amanda\", \"Laís\", \"Romero\"]):\n",
        "#     print(f\"{x} {y}\")"
      ],
      "execution_count": 0,
      "outputs": []
    },
    {
      "cell_type": "code",
      "metadata": {
        "id": "kXg3k5W059an",
        "colab_type": "code",
        "colab": {}
      },
      "source": [
        "# função map (aplica uma função sobre os valores de um iterável)\n",
        "f = lambda x: x**2\n",
        "num = [0, 1, 2, 3, 4, 5, 6, 7, 8]\n",
        "\n",
        "l = list( map(f, num) )\n",
        "\n",
        "# lista de numeros em strings\n",
        "# l = \"\".join(map(str, num))\n",
        "\n",
        "print(f\"l = {l}\")"
      ],
      "execution_count": 0,
      "outputs": []
    },
    {
      "cell_type": "code",
      "metadata": {
        "id": "MSoP--q_5_ry",
        "colab_type": "code",
        "colab": {}
      },
      "source": [
        "# função filter\n",
        "# extrair valores que satisfazem a condição\n",
        "f = lambda x: x%2 == 0\n",
        "l = list( filter(f, [0, 1, 2, 3, 4, 5, 6, 7, 8]) )\n",
        "\n",
        "print(f\"l = {l}\")"
      ],
      "execution_count": 0,
      "outputs": []
    },
    {
      "cell_type": "code",
      "metadata": {
        "id": "SLY6tC2f6BX4",
        "colab_type": "code",
        "colab": {}
      },
      "source": [
        "# função reduce (aplica uma função cumulativa sobre os valores de um iterável)\n",
        "from functools import reduce\n",
        "f = lambda x, y: x*y\n",
        "l = reduce(f, [1, 2, 3, 4, 5]) # 5!\n",
        "\n",
        "print(f\"l = {l}\")"
      ],
      "execution_count": 0,
      "outputs": []
    },
    {
      "cell_type": "code",
      "metadata": {
        "id": "e-wcANut5vb_",
        "colab_type": "code",
        "colab": {}
      },
      "source": [
        "# transpor uma matriz\n",
        "matriz = [\n",
        "          [1, 2, 3, 4],\n",
        "          [5, 6, 7, 8],\n",
        "          [9, 10, 11, 12],\n",
        "         ]\n",
        "\n",
        "mt = [[row[i] for row in matriz] for i in range(4)]\n",
        "# mt = list(zip(*matriz))\n",
        "\n",
        "print(mt)"
      ],
      "execution_count": 0,
      "outputs": []
    },
    {
      "cell_type": "markdown",
      "metadata": {
        "colab_type": "text",
        "id": "IAACf_xIlyQZ"
      },
      "source": [
        "# Tuplas (Imutáveis)"
      ]
    },
    {
      "cell_type": "code",
      "metadata": {
        "colab_type": "code",
        "id": "hk3zYJJwlyQe",
        "colab": {}
      },
      "source": [
        "# Tuplas são imutáveis em todos os aspectos\n",
        "t = (\"item 1\", \"item 2\", 3, 5, 3, 3, True)\n",
        "\n",
        "# t[3] = \"item 4\"\n",
        "print(f\"O quarto elemento é: {t[3]}\\n\")\n",
        "\n",
        "print(t.count(3))\n",
        "print(t.index(3)) # primeiro encontrado\n",
        "# todos\n",
        "list_index = [i for i, n in enumerate(t) if n == 3]\n",
        "print(list_index)"
      ],
      "execution_count": 0,
      "outputs": []
    },
    {
      "cell_type": "code",
      "metadata": {
        "id": "iJQ4Mu2Z8XC8",
        "colab_type": "code",
        "colab": {}
      },
      "source": [
        "# modificar tuplas (impossível)\n",
        "t = (\"item 1\", \"item 2\", 3, 5, 3, 3, True)\n",
        "l = list(t)\n",
        "l.append([\"valor 1\", \"valor 2\", {\"key\": \"value\"}])\n",
        "t = tuple(l)\n",
        "\n",
        "# t[7][1] = 10\n",
        "# t[7][2][\"key\"] = \"NOVÍSSIMO VALOR\"\n",
        "\n",
        "print(t)\n",
        "\n",
        "print(se)"
      ],
      "execution_count": 0,
      "outputs": []
    },
    {
      "cell_type": "markdown",
      "metadata": {
        "colab_type": "text",
        "id": "2ch69UzKlxyG"
      },
      "source": [
        "\n",
        "# Dicionários (Mutáveis)"
      ]
    },
    {
      "cell_type": "code",
      "metadata": {
        "colab_type": "code",
        "id": "-ginCnF3lxyW",
        "colab": {}
      },
      "source": [
        "# Dicionários\n",
        "d = {\"Sistemas\": 10, \"de\": 54, \"Informação\": 33, \"Unimontes\": 40, \"Semana\": 100, \"de\": 11}  #de=11\n",
        "d[\"Integração\"] = 73\n",
        "\n",
        "# Apenas tuplas, strings, inteiros e floats podem ser chaves\n",
        "d2 = {(1, 2, 3): \"valor 1\", \"chave 2\": \"valor 2\", 3.7: \"valor 3\", 773: \"valor 4\"}\n",
        "d2[773] = \"NOVO VALOR\"\n",
        "# print(d2[774])    # raise error\n",
        "# print(d2.get(774))  # return none\n",
        "# print(d2.get(774, \"Chave inexistente!\"))  # return alternative\n",
        "# del d2[\"chave 2\"]\n",
        "# d2.pop(\"chave 2\")\n",
        "# d2.pop(\"chave 23\", \"Chave inexistente\")\n",
        "print(d2)"
      ],
      "execution_count": 0,
      "outputs": []
    },
    {
      "cell_type": "code",
      "metadata": {
        "id": "26VoVibXLjUy",
        "colab_type": "code",
        "colab": {}
      },
      "source": [
        "print(d.items())\n",
        "# print(d.keys())\n",
        "# print(d.values()\n",
        "\n",
        "# a = d.items()\n",
        "# print(*a, sep=\"\\n\")"
      ],
      "execution_count": 0,
      "outputs": []
    },
    {
      "cell_type": "code",
      "metadata": {
        "id": "6jV6iF2BUHwm",
        "colab_type": "code",
        "colab": {}
      },
      "source": [
        "d = {\"nome\": \"Maria Dolores Silva\",\n",
        "     \"idade\": 23,\n",
        "     \"cpf\": \"111.222.333-98\",\n",
        "     \"telefone\": \"(38) 98829-3376\",\n",
        "     \"dia_nascimento\": 10}\n",
        "\n",
        "print(d.values())\n",
        "\n",
        "# iterar em dicionários\n",
        "# for k, v in d.items():\n",
        "#     print(f\"A chave '{k}' contém '{v}'.\")\n",
        "\n",
        "# print(*d.values(), sep=\"\\n\")"
      ],
      "execution_count": 0,
      "outputs": []
    },
    {
      "cell_type": "markdown",
      "metadata": {
        "colab_type": "text",
        "id": "VwGos0efl1Q6"
      },
      "source": [
        "# Sets (Imutáveis)"
      ]
    },
    {
      "cell_type": "code",
      "metadata": {
        "colab_type": "code",
        "id": "z5o1oautl1RL",
        "colab": {}
      },
      "source": [
        "# Os elementos dos Sets não podem ser mudados\n",
        "# Os elementos são únicos\n",
        "\n",
        "s = {1, 2, \"Olá\",  3, 4, 5, 6, (3, 4, 5), \"teste\"}\n",
        "for i in range(7, 11):\n",
        "    s.add(i)\n",
        "\n",
        "# s[3] = 44\n",
        "\n",
        "# a = [1, 2, 3, 4, 5, 6, 7, 8]\n",
        "# b = [5, 6, 7, 8, 9, 10, 11, 12]\n",
        "\n",
        "# st = set(i for i in a)\n",
        "# st.add(i for i in b)\n",
        "# print(f\"st={st}\")\n",
        "\n",
        "# s.add((22,33,44))\n",
        "# s.add(\"palavra\")\n",
        "# s.remove(\"palavra\")\n",
        "# s.discard((22, 33, 44))\n",
        "# s.discard(\"teste\")\n",
        "# s.remove(\"teste\")\n",
        "\n",
        "# s.update([\"orange\", \"mango\", \"grapes\"])\n",
        "print(s)\n",
        "\n",
        "# b = s.union([\"orange\", \"mango\", \"grapes\"], {\"key\": \"value\"}.values(), [7, 8, 9, 0], [True, False])\n",
        "# print(b)"
      ],
      "execution_count": 0,
      "outputs": []
    },
    {
      "cell_type": "code",
      "metadata": {
        "id": "sdznOo8zTU0H",
        "colab_type": "code",
        "colab": {}
      },
      "source": [
        "import random\n",
        "a = random.choices([\"A\", \"B\", \"C\", \"D\", \"E\", \"Z\", \"H\", \"I\", \"K\", \"L\", \"M\", \"N\", \"O\", \"P\", \"Q\", \"R\", \"S\", \"T\", \"V\", \"X\"],k=20)\n",
        "\n",
        "# import string\n",
        "# a = random.choices(string.ascii_letters.upper(), k=20)\n",
        "\n",
        "# a.sort()\n",
        "\n",
        "print(a)\n",
        "# s = set(a)\n",
        "# s.sort()\n",
        "\n",
        "# s = sorted(set(a))\n",
        "print(s)\n",
        "\n",
        "# s = set(s)\n",
        "# print(s)"
      ],
      "execution_count": 0,
      "outputs": []
    },
    {
      "cell_type": "markdown",
      "metadata": {
        "colab_type": "text",
        "id": "AKPJBexI4QAA"
      },
      "source": [
        "# Módulos"
      ]
    },
    {
      "cell_type": "code",
      "metadata": {
        "colab_type": "code",
        "id": "T1w8QJe54SXJ",
        "colab": {}
      },
      "source": [
        "# Módulos\n",
        "import math\n",
        "print(math.pi)\n",
        "\n",
        "# from math import pi\n",
        "# print(f\"{pi:.4f}\")      #f\"{variavel:.f}\"\n",
        "\n",
        "# from math import *\n",
        "# pow(pi,1/2)\n",
        "\n",
        "# from math import pi as piupiu\n",
        "# print(piupiu)"
      ],
      "execution_count": 0,
      "outputs": []
    },
    {
      "cell_type": "code",
      "metadata": {
        "id": "j0yJRajKXZHi",
        "colab_type": "code",
        "colab": {}
      },
      "source": [
        "# instalar o módulo colorama\n",
        "!pip3 install colorama\n",
        "print(\"\\n\\n\")\n",
        "\n",
        "from colorama import Fore, Back, Style\n",
        "\n",
        "print( Fore.YELLOW       + \"Algum texto em amarelo\")\n",
        "print( Back.RED          + \"Agora com background vermelho!\")\n",
        "print( Style.RESET_ALL   + \"De volta ao normal.\")"
      ],
      "execution_count": 0,
      "outputs": []
    },
    {
      "cell_type": "markdown",
      "metadata": {
        "colab_type": "text",
        "id": "eYLicDiW4G4s"
      },
      "source": [
        "# Funções"
      ]
    },
    {
      "cell_type": "code",
      "metadata": {
        "id": "928R7LDk4Cmv",
        "colab_type": "code",
        "colab": {}
      },
      "source": [
        "# Funções\n",
        "\n",
        "# Funções Embutidas\n",
        "a = [1,3,2,5,7,6]\n",
        "b = (4,6,9,7,4,3,6)\n",
        "c = {6,4,2,6,3,7,1}\n",
        "d = {\"a\": 3, \"b\":1, \"c\":2, \"d\": 0}\n",
        "print(f\"max(a): {max(a)}\\nmax(b): {max(b)}\\nmax(c): {max(c)}\\nmax\" +    # quebrar string no código\n",
        "       \"(d): {max(d.items())}\\nmax(d.values): {max(d.values())}\\n\")\n",
        "\n",
        "# import math\n",
        "# def area_circulo(raio, pi=math.pi):   # pi é um argumento opcional\n",
        "#     return pi * math.pow(raio,2)\n",
        "\n",
        "# print(area_circulo(5, 2))"
      ],
      "execution_count": 0,
      "outputs": []
    },
    {
      "cell_type": "code",
      "metadata": {
        "id": "DVbVnJZBYANE",
        "colab_type": "code",
        "colab": {}
      },
      "source": [
        "# função anônima (lambda)\n",
        "# f = lambda raio: pi * raio**2\n",
        "# print(f(5))\n",
        "\n",
        "# Operador ternário\n",
        "# a,b = 11, 12\n",
        "# print(a < b and \"A < B\" or \"A >= B\")    #(a > b and \"A > B\" or \"A = B\")\n",
        "\n",
        "# Operador ternário com lambda\n",
        "# print((lambda x:(x % 2 and 'Ímpar!' or 'Par!'))(6))   # (6) é o parâmetro já passado\n",
        "\n",
        "# mais de uma variável\n",
        "# f = lambda x,y: x**y\n",
        "# print(f(2,3))"
      ],
      "execution_count": 0,
      "outputs": []
    },
    {
      "cell_type": "code",
      "metadata": {
        "id": "f08qQ2ElYDuL",
        "colab_type": "code",
        "colab": {}
      },
      "source": [
        "# Escopo da variável\n",
        "x = 11\n",
        "def eh_par(valor):\n",
        "    '''Função que verifica se um número é par!'''\n",
        "    val = valor\n",
        "    return (f\"{val} é par!\" if val%2 == 0 else f\"{val} não é par!\")\n",
        "\n",
        "help(eh_par)\n",
        "\n",
        "print(f\"X é {x}.\")\n",
        "print(f\"val é {val}.\")\n",
        "\n",
        "print(eh_par(x))"
      ],
      "execution_count": 0,
      "outputs": []
    },
    {
      "cell_type": "code",
      "metadata": {
        "id": "XQxcOWDWYIHQ",
        "colab_type": "code",
        "colab": {}
      },
      "source": [
        "a = [1, 2, 3, 4, 5, 6]\n",
        "a.remove(9)\n",
        "\n",
        "# try:\n",
        "#     a.remove(9)\n",
        "# except (ValueError):\n",
        "#     print(\"Impossível remover! Esse valor não existe em \\\"a\\\"!\")"
      ],
      "execution_count": 0,
      "outputs": []
    },
    {
      "cell_type": "markdown",
      "metadata": {
        "colab_type": "text",
        "id": "XAXullTw_VP9"
      },
      "source": [
        "# Arquivos"
      ]
    },
    {
      "cell_type": "code",
      "metadata": {
        "colab_type": "code",
        "id": "JYuDkd7u_VQL",
        "colab": {}
      },
      "source": [
        "# abrir\n",
        "f = open(\"arquivo.txt\", \"rt+\")    #r, w, a, x, r+ //t(text) b(binary)\n",
        "\n",
        "f.close()"
      ],
      "execution_count": 0,
      "outputs": []
    },
    {
      "cell_type": "code",
      "metadata": {
        "id": "O9d5gQbNYb6L",
        "colab_type": "code",
        "colab": {}
      },
      "source": [
        "# Ler\n",
        "f = open(\"arquivo.txt\", \"rt+\")\n",
        "print(f.read())\n",
        "\n",
        "# Ler linha por linha\n",
        "print(f.readline())\n",
        "\n",
        "# Ler todas as linhas\n",
        "print(f.readlines())\n",
        "\n",
        "f.close()"
      ],
      "execution_count": 0,
      "outputs": []
    },
    {
      "cell_type": "code",
      "metadata": {
        "id": "04IVyRbEZfuz",
        "colab_type": "code",
        "colab": {}
      },
      "source": [
        "# Escrever\n",
        "f = open(\"arquivo.txt\",\"w\")\n",
        "f.write(\"Hello World!\")\n",
        "\n",
        "# Escrever uma lista de linhas\n",
        "# lines_of_text = [\"Linha 1\\n\", \"Linha 2\\n\", \"Linha 3\", \"Linha 4\"]\n",
        "# f.writelines(lines_of_text)\n",
        "\n",
        "# Acrescentar\n",
        "# f = open(\"arquivo.txt\", \"a\")\n",
        "# f.write(\"Outra Linha\")\n",
        "\n",
        "# Fechar\n",
        "# print(f.read())\n",
        "\n",
        "f.close()"
      ],
      "execution_count": 0,
      "outputs": []
    },
    {
      "cell_type": "code",
      "metadata": {
        "id": "aTq93biwFmVb",
        "colab_type": "code",
        "colab": {}
      },
      "source": [
        "verificar se já existe\n",
        "import os\n",
        "if os.path.exists(\"arquivo.txt\"):\n",
        "    print(\"O arquivo já existe\")\n",
        "\n",
        "# f = open(\"arquivo2.txt\", \"a+\")\n",
        "# f.write(\"Bem vindos!\")\n",
        "# f.seek(0)\n",
        "# print(f.read())"
      ],
      "execution_count": 0,
      "outputs": []
    },
    {
      "cell_type": "code",
      "metadata": {
        "id": "zOI11djryNGw",
        "colab_type": "code",
        "colab": {}
      },
      "source": [
        "import os\n",
        "os.remove(\"arquivo2.txt\")\n",
        "\n",
        "# import os\n",
        "# os.mkdir(\"teste\")\n",
        "# os.rmdir(\"teste\")\n",
        "\n",
        "# usando with\n",
        "# with open(\"arquivo3.txt\", \"a+\") as f:\n",
        "#     f.write(\"Hello, world!\\n\")\n",
        "#     f.seek(0)\n",
        "#     print(f.read())"
      ],
      "execution_count": 0,
      "outputs": []
    },
    {
      "cell_type": "markdown",
      "metadata": {
        "id": "4mrPYhrsMX1W",
        "colab_type": "text"
      },
      "source": [
        "# SQLite3"
      ]
    },
    {
      "cell_type": "code",
      "metadata": {
        "id": "ppHMM0RiMW6j",
        "colab_type": "code",
        "colab": {}
      },
      "source": [
        "import sqlite3\n",
        "\n",
        "conn = sqlite3.connect('database.db')\n",
        "\n",
        "# cursor para manipular o banco (enviar comandos)\n",
        "cur = conn.cursor()\n",
        "\n",
        "# Criar tabela\n",
        "# cur.execute(\"\"\"CREATE TABLE pessoa (\n",
        "#             id INTEGER PRIMARY KEY AUTOINCREMENT,\n",
        "#             nome text NOT NULL,\n",
        "#             idade text NOT NULL\n",
        "#             )\"\"\")\n",
        "\n",
        "# Inserir dados\n",
        "# cur.execute(\"\"\"INSERT INTO pessoa (nome, idade)VALUES ('Jorge Almeida', 30)\"\"\")\n",
        "# cur.execute(\"\"\"INSERT INTO pessoa (nome, idade)VALUES ('Romero Brito', 21)\"\"\")\n",
        "# cur.execute(\"\"\"INSERT INTO pessoa (nome, idade)VALUES ('Katrina', 18)\"\"\")\n",
        "\n",
        "# rs = cur.execute(\"\"\"SELECT * FROM pessoa\"\"\")\n",
        "# print(cur.fetchall())\n",
        "# for i in rs:\n",
        "#     print(i)\n",
        "\n",
        "# Salva as modificações no arquivo\n",
        "conn.commit()\n",
        "\n",
        "# Fecha a conexão com o banco\n",
        "conn.close()"
      ],
      "execution_count": 0,
      "outputs": []
    }
  ]
}